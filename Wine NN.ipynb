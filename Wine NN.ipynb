{
 "cells": [
  {
   "cell_type": "code",
   "execution_count": 43,
   "id": "124f81f0",
   "metadata": {},
   "outputs": [],
   "source": [
    "import pandas as pd\n",
    "import matplotlib.pyplot as plt"
   ]
  },
  {
   "cell_type": "markdown",
   "id": "48d29df4",
   "metadata": {},
   "source": [
    "# K Nearest Neighbors Wine Prediction"
   ]
  },
  {
   "cell_type": "markdown",
   "id": "ed21068a",
   "metadata": {},
   "source": [
    "### These are the functions that I have written out. I have put them all at the top as to try to keep organisation to the code"
   ]
  },
  {
   "cell_type": "markdown",
   "id": "e0586a78",
   "metadata": {},
   "source": [
    "#### Distance function"
   ]
  },
  {
   "cell_type": "code",
   "execution_count": 117,
   "id": "21083bba",
   "metadata": {},
   "outputs": [],
   "source": [
    "\n",
    "def get_distance(wine1, wine2):\n",
    "    distance = 0\n",
    "    for i in range(len(wine1) - 2):\n",
    "        distance += (wine1[i] - wine2[i]) ** 2\n",
    "    root_distance = distance ** 0.5\n",
    "    return root_distance"
   ]
  },
  {
   "cell_type": "markdown",
   "id": "fe8bf598",
   "metadata": {},
   "source": [
    "#### Normalise functions. There are two types of normalisation that I could have used: z-score normalisation and min-max.\n",
    "#### For the purpose of this project I have used min-max"
   ]
  },
  {
   "cell_type": "code",
   "execution_count": 4,
   "id": "31607ab9",
   "metadata": {},
   "outputs": [],
   "source": [
    "def min_max_normalise(series):\n",
    "    min_val = min(series)\n",
    "    max_val = max(series)\n",
    "    normalised = [(i - min_val)/ (max_val - min_val) for i in series]\n",
    "    return normalised\n"
   ]
  },
  {
   "cell_type": "code",
   "execution_count": 5,
   "id": "35074d41",
   "metadata": {},
   "outputs": [],
   "source": [
    "def z_score_normalise(series):\n",
    "    mean = series.mean()\n",
    "    std = series.std()\n",
    "    normalise = [(i - mean) / std for i in series]\n",
    "    return normalise"
   ]
  },
  {
   "cell_type": "markdown",
   "id": "c0b3e48a",
   "metadata": {},
   "source": [
    "#### This is the function that will itterate through the dataset and find the data points that have the shortest distance."
   ]
  },
  {
   "cell_type": "code",
   "execution_count": 137,
   "id": "63d4f68c",
   "metadata": {},
   "outputs": [],
   "source": [
    "def classify(unknown, df, k):\n",
    "    distances = []\n",
    "    for index, row in df.iterrows():\n",
    "        distance_to_point = get_distance(row.values, unknown)\n",
    "        distances.append([distance_to_point, row['quality'], index])\n",
    "    distances.sort()\n",
    "    neighbors = distances[0:k]\n",
    "    lst = []\n",
    "    for i in neighbors:\n",
    "        lst.append(i[1])\n",
    "    return max(set(lst), key = lst.count)\n",
    "    "
   ]
  },
  {
   "cell_type": "markdown",
   "id": "b5453860",
   "metadata": {},
   "source": [
    "#### This is the test function to test the accuracy of the model."
   ]
  },
  {
   "cell_type": "code",
   "execution_count": 180,
   "id": "ebeea0ee",
   "metadata": {},
   "outputs": [],
   "source": [
    "def test(test_data, k):\n",
    "    correct_pred = 0\n",
    "    for index, row in test_data.iterrows():\n",
    "        pred_qual = classify(row, df, k)\n",
    "        act_qual = row['quality']\n",
    "        if pred_qual == act_qual:\n",
    "            correct_pred += 1\n",
    "    return (correct_pred / len(test_data)) * 100\n",
    "    "
   ]
  },
  {
   "cell_type": "markdown",
   "id": "8e1e5f1a",
   "metadata": {},
   "source": [
    "#### First step in the project is to download the dataset and look at it"
   ]
  },
  {
   "cell_type": "code",
   "execution_count": 147,
   "id": "7fdbe04e",
   "metadata": {},
   "outputs": [
    {
     "data": {
      "text/html": [
       "<div>\n",
       "<style scoped>\n",
       "    .dataframe tbody tr th:only-of-type {\n",
       "        vertical-align: middle;\n",
       "    }\n",
       "\n",
       "    .dataframe tbody tr th {\n",
       "        vertical-align: top;\n",
       "    }\n",
       "\n",
       "    .dataframe thead th {\n",
       "        text-align: right;\n",
       "    }\n",
       "</style>\n",
       "<table border=\"1\" class=\"dataframe\">\n",
       "  <thead>\n",
       "    <tr style=\"text-align: right;\">\n",
       "      <th></th>\n",
       "      <th>fixed acidity</th>\n",
       "      <th>volatile acidity</th>\n",
       "      <th>citric acid</th>\n",
       "      <th>residual sugar</th>\n",
       "      <th>chlorides</th>\n",
       "      <th>free sulfur dioxide</th>\n",
       "      <th>total sulfur dioxide</th>\n",
       "      <th>density</th>\n",
       "      <th>pH</th>\n",
       "      <th>sulphates</th>\n",
       "      <th>alcohol</th>\n",
       "      <th>quality</th>\n",
       "      <th>Id</th>\n",
       "    </tr>\n",
       "  </thead>\n",
       "  <tbody>\n",
       "    <tr>\n",
       "      <th>0</th>\n",
       "      <td>7.4</td>\n",
       "      <td>0.70</td>\n",
       "      <td>0.00</td>\n",
       "      <td>1.9</td>\n",
       "      <td>0.076</td>\n",
       "      <td>11.0</td>\n",
       "      <td>34.0</td>\n",
       "      <td>0.9978</td>\n",
       "      <td>3.51</td>\n",
       "      <td>0.56</td>\n",
       "      <td>9.4</td>\n",
       "      <td>5</td>\n",
       "      <td>0</td>\n",
       "    </tr>\n",
       "    <tr>\n",
       "      <th>1</th>\n",
       "      <td>7.8</td>\n",
       "      <td>0.88</td>\n",
       "      <td>0.00</td>\n",
       "      <td>2.6</td>\n",
       "      <td>0.098</td>\n",
       "      <td>25.0</td>\n",
       "      <td>67.0</td>\n",
       "      <td>0.9968</td>\n",
       "      <td>3.20</td>\n",
       "      <td>0.68</td>\n",
       "      <td>9.8</td>\n",
       "      <td>5</td>\n",
       "      <td>1</td>\n",
       "    </tr>\n",
       "    <tr>\n",
       "      <th>2</th>\n",
       "      <td>7.8</td>\n",
       "      <td>0.76</td>\n",
       "      <td>0.04</td>\n",
       "      <td>2.3</td>\n",
       "      <td>0.092</td>\n",
       "      <td>15.0</td>\n",
       "      <td>54.0</td>\n",
       "      <td>0.9970</td>\n",
       "      <td>3.26</td>\n",
       "      <td>0.65</td>\n",
       "      <td>9.8</td>\n",
       "      <td>5</td>\n",
       "      <td>2</td>\n",
       "    </tr>\n",
       "    <tr>\n",
       "      <th>3</th>\n",
       "      <td>11.2</td>\n",
       "      <td>0.28</td>\n",
       "      <td>0.56</td>\n",
       "      <td>1.9</td>\n",
       "      <td>0.075</td>\n",
       "      <td>17.0</td>\n",
       "      <td>60.0</td>\n",
       "      <td>0.9980</td>\n",
       "      <td>3.16</td>\n",
       "      <td>0.58</td>\n",
       "      <td>9.8</td>\n",
       "      <td>6</td>\n",
       "      <td>3</td>\n",
       "    </tr>\n",
       "    <tr>\n",
       "      <th>4</th>\n",
       "      <td>7.4</td>\n",
       "      <td>0.70</td>\n",
       "      <td>0.00</td>\n",
       "      <td>1.9</td>\n",
       "      <td>0.076</td>\n",
       "      <td>11.0</td>\n",
       "      <td>34.0</td>\n",
       "      <td>0.9978</td>\n",
       "      <td>3.51</td>\n",
       "      <td>0.56</td>\n",
       "      <td>9.4</td>\n",
       "      <td>5</td>\n",
       "      <td>4</td>\n",
       "    </tr>\n",
       "  </tbody>\n",
       "</table>\n",
       "</div>"
      ],
      "text/plain": [
       "   fixed acidity  volatile acidity  citric acid  residual sugar  chlorides  \\\n",
       "0            7.4              0.70         0.00             1.9      0.076   \n",
       "1            7.8              0.88         0.00             2.6      0.098   \n",
       "2            7.8              0.76         0.04             2.3      0.092   \n",
       "3           11.2              0.28         0.56             1.9      0.075   \n",
       "4            7.4              0.70         0.00             1.9      0.076   \n",
       "\n",
       "   free sulfur dioxide  total sulfur dioxide  density    pH  sulphates  \\\n",
       "0                 11.0                  34.0   0.9978  3.51       0.56   \n",
       "1                 25.0                  67.0   0.9968  3.20       0.68   \n",
       "2                 15.0                  54.0   0.9970  3.26       0.65   \n",
       "3                 17.0                  60.0   0.9980  3.16       0.58   \n",
       "4                 11.0                  34.0   0.9978  3.51       0.56   \n",
       "\n",
       "   alcohol  quality  Id  \n",
       "0      9.4        5   0  \n",
       "1      9.8        5   1  \n",
       "2      9.8        5   2  \n",
       "3      9.8        6   3  \n",
       "4      9.4        5   4  "
      ]
     },
     "execution_count": 147,
     "metadata": {},
     "output_type": "execute_result"
    }
   ],
   "source": [
    "df = pd.read_csv('WineQT.csv')\n",
    "df.head()\n"
   ]
  },
  {
   "cell_type": "markdown",
   "id": "80a2fb01",
   "metadata": {},
   "source": [
    "#### After having a look at the dataset I have decided to use the quality as the 'label'.\n",
    "#### I am then going to normalise the data, exlcuding the quality column."
   ]
  },
  {
   "cell_type": "code",
   "execution_count": 149,
   "id": "8fc9051a",
   "metadata": {},
   "outputs": [],
   "source": [
    "for i in range(len(df.columns) - 2):\n",
    "    column = df.columns.values[i]\n",
    "    df[column] = min_max_normalise(df[column].values)"
   ]
  },
  {
   "cell_type": "markdown",
   "id": "325a4b46",
   "metadata": {},
   "source": [
    "#### After then making the functions and storing them at the top I am ready to create a new wine and try to classify it."
   ]
  },
  {
   "cell_type": "code",
   "execution_count": 151,
   "id": "0bdcb2a8",
   "metadata": {},
   "outputs": [],
   "source": [
    "new_wine =  [0.3, 0.5, 0.5 ,0.08 ,0.15 ,0.1, 0.2 ,0.7, 0.5 ,0.2 ,0.3]\n"
   ]
  },
  {
   "cell_type": "code",
   "execution_count": 179,
   "id": "3a0101eb",
   "metadata": {},
   "outputs": [
    {
     "data": {
      "text/plain": [
       "5.0"
      ]
     },
     "execution_count": 179,
     "metadata": {},
     "output_type": "execute_result"
    }
   ],
   "source": [
    "classify(new_wine, df, 10)"
   ]
  },
  {
   "cell_type": "markdown",
   "id": "a5c00fca",
   "metadata": {},
   "source": [
    "#### After classifying a new wine, I am going to see how accurate my model is. I have not split the data in to training sets and validation sets, so i will use a random selection from the dataframe. 25% is generally how much the data is splitso I will use a random selection of 25%"
   ]
  },
  {
   "cell_type": "code",
   "execution_count": 185,
   "id": "ce91a8a0",
   "metadata": {},
   "outputs": [],
   "source": [
    "test_data = df[:round(len(df) * 0.25)]"
   ]
  },
  {
   "cell_type": "markdown",
   "id": "3fdc5a30",
   "metadata": {},
   "source": [
    "#### I can put this dataframe in to my test function and observe the result"
   ]
  },
  {
   "cell_type": "code",
   "execution_count": 188,
   "id": "40b5a657",
   "metadata": {},
   "outputs": [
    {
     "data": {
      "text/plain": [
       "65.38461538461539"
      ]
     },
     "execution_count": 188,
     "metadata": {},
     "output_type": "execute_result"
    }
   ],
   "source": [
    "test(test_data)"
   ]
  },
  {
   "cell_type": "markdown",
   "id": "8d9dd38f",
   "metadata": {},
   "source": [
    "#### I can see that my model has an accuracy of %65. This was using k=10 for the nearest neighbors. However, the accuracy of the model can change depending on the value of K. If I were to do this project again, I would change the values of k to try and find the optimal number of neighbors. Another machine learning method I could use would be a decision tree, which could in turn be turned in to a random forrest."
   ]
  },
  {
   "cell_type": "code",
   "execution_count": null,
   "id": "32376655",
   "metadata": {},
   "outputs": [],
   "source": []
  }
 ],
 "metadata": {
  "kernelspec": {
   "display_name": "Python 3 (ipykernel)",
   "language": "python",
   "name": "python3"
  },
  "language_info": {
   "codemirror_mode": {
    "name": "ipython",
    "version": 3
   },
   "file_extension": ".py",
   "mimetype": "text/x-python",
   "name": "python",
   "nbconvert_exporter": "python",
   "pygments_lexer": "ipython3",
   "version": "3.9.7"
  }
 },
 "nbformat": 4,
 "nbformat_minor": 5
}
